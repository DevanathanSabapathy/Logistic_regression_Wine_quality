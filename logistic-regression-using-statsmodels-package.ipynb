{
 "cells": [
  {
   "cell_type": "markdown",
   "execution_count": null,
   "metadata": {
    "papermill": {
     "duration": 0.017533,
     "end_time": "2020-08-12T22:50:22.292809",
     "exception": false,
     "start_time": "2020-08-12T22:50:22.275276",
     "status": "completed"
    },
    "tags": []
   },
   "source": [
    "# Importing the libraries"
   ]
  },
  {
   "cell_type": "code",
   "execution_count": 1,
   "metadata": {
    "execution": {
     "iopub.execute_input": "2020-08-12T22:50:22.340050Z",
     "iopub.status.busy": "2020-08-12T22:50:22.334642Z",
     "iopub.status.idle": "2020-08-12T22:50:24.626868Z",
     "shell.execute_reply": "2020-08-12T22:50:24.627474Z"
    },
    "papermill": {
     "duration": 2.317579,
     "end_time": "2020-08-12T22:50:24.627735",
     "exception": false,
     "start_time": "2020-08-12T22:50:22.310156",
     "status": "completed"
    },
    "tags": []
   },
   "outputs": [],
   "source": [
    "import numpy as np\n",
    "import pandas as pd\n",
    "import statsmodels.api as sm\n",
    "import seaborn as sns\n",
    "import matplotlib.pyplot as plt\n",
    "import pylab\n",
    "import scipy.stats as stats\n",
    "from sklearn.linear_model import LogisticRegression\n",
    "from sklearn.model_selection import train_test_split\n",
    "from sklearn.metrics import accuracy_score\n",
    "from sklearn.metrics import confusion_matrix\n",
    "from sklearn.metrics import classification_report\n",
    "from sklearn.metrics import roc_auc_score\n",
    "from sklearn.metrics import roc_curve, auc\n",
    "from sklearn.preprocessing import binarize\n",
    "from sklearn.preprocessing import StandardScaler\n",
    "from sklearn.neighbors import KNeighborsClassifier\n",
    "\n",
    "%matplotlib inline"
   ]
  },
  {
   "cell_type": "markdown",
   "execution_count": null,
   "metadata": {
    "papermill": {
     "duration": 0.015677,
     "end_time": "2020-08-12T22:50:24.660513",
     "exception": false,
     "start_time": "2020-08-12T22:50:24.644836",
     "status": "completed"
    },
    "tags": []
   },
   "source": [
    "# Loading the data"
   ]
  },
  {
   "cell_type": "code",
   "execution_count": 2,
   "metadata": {
    "execution": {
     "iopub.execute_input": "2020-08-12T22:50:24.705865Z",
     "iopub.status.busy": "2020-08-12T22:50:24.704653Z",
     "iopub.status.idle": "2020-08-12T22:50:24.751398Z",
     "shell.execute_reply": "2020-08-12T22:50:24.752018Z"
    },
    "papermill": {
     "duration": 0.075512,
     "end_time": "2020-08-12T22:50:24.752186",
     "exception": false,
     "start_time": "2020-08-12T22:50:24.676674",
     "status": "completed"
    },
    "tags": []
   },
   "outputs": [
    {
     "data": {
      "text/html": [
       "<div>\n",
       "<style scoped>\n",
       "    .dataframe tbody tr th:only-of-type {\n",
       "        vertical-align: middle;\n",
       "    }\n",
       "\n",
       "    .dataframe tbody tr th {\n",
       "        vertical-align: top;\n",
       "    }\n",
       "\n",
       "    .dataframe thead th {\n",
       "        text-align: right;\n",
       "    }\n",
       "</style>\n",
       "<table border=\"1\" class=\"dataframe\">\n",
       "  <thead>\n",
       "    <tr style=\"text-align: right;\">\n",
       "      <th></th>\n",
       "      <th>fixed acidity</th>\n",
       "      <th>volatile acidity</th>\n",
       "      <th>citric acid</th>\n",
       "      <th>residual sugar</th>\n",
       "      <th>chlorides</th>\n",
       "      <th>free sulfur dioxide</th>\n",
       "      <th>total sulfur dioxide</th>\n",
       "      <th>density</th>\n",
       "      <th>pH</th>\n",
       "      <th>sulphates</th>\n",
       "      <th>alcohol</th>\n",
       "      <th>quality</th>\n",
       "    </tr>\n",
       "  </thead>\n",
       "  <tbody>\n",
       "    <tr>\n",
       "      <th>0</th>\n",
       "      <td>7.4</td>\n",
       "      <td>0.70</td>\n",
       "      <td>0.00</td>\n",
       "      <td>1.9</td>\n",
       "      <td>0.076</td>\n",
       "      <td>11.0</td>\n",
       "      <td>34.0</td>\n",
       "      <td>0.9978</td>\n",
       "      <td>3.51</td>\n",
       "      <td>0.56</td>\n",
       "      <td>9.4</td>\n",
       "      <td>5</td>\n",
       "    </tr>\n",
       "    <tr>\n",
       "      <th>1</th>\n",
       "      <td>7.8</td>\n",
       "      <td>0.88</td>\n",
       "      <td>0.00</td>\n",
       "      <td>2.6</td>\n",
       "      <td>0.098</td>\n",
       "      <td>25.0</td>\n",
       "      <td>67.0</td>\n",
       "      <td>0.9968</td>\n",
       "      <td>3.20</td>\n",
       "      <td>0.68</td>\n",
       "      <td>9.8</td>\n",
       "      <td>5</td>\n",
       "    </tr>\n",
       "    <tr>\n",
       "      <th>2</th>\n",
       "      <td>7.8</td>\n",
       "      <td>0.76</td>\n",
       "      <td>0.04</td>\n",
       "      <td>2.3</td>\n",
       "      <td>0.092</td>\n",
       "      <td>15.0</td>\n",
       "      <td>54.0</td>\n",
       "      <td>0.9970</td>\n",
       "      <td>3.26</td>\n",
       "      <td>0.65</td>\n",
       "      <td>9.8</td>\n",
       "      <td>5</td>\n",
       "    </tr>\n",
       "    <tr>\n",
       "      <th>3</th>\n",
       "      <td>11.2</td>\n",
       "      <td>0.28</td>\n",
       "      <td>0.56</td>\n",
       "      <td>1.9</td>\n",
       "      <td>0.075</td>\n",
       "      <td>17.0</td>\n",
       "      <td>60.0</td>\n",
       "      <td>0.9980</td>\n",
       "      <td>3.16</td>\n",
       "      <td>0.58</td>\n",
       "      <td>9.8</td>\n",
       "      <td>6</td>\n",
       "    </tr>\n",
       "    <tr>\n",
       "      <th>4</th>\n",
       "      <td>7.4</td>\n",
       "      <td>0.70</td>\n",
       "      <td>0.00</td>\n",
       "      <td>1.9</td>\n",
       "      <td>0.076</td>\n",
       "      <td>11.0</td>\n",
       "      <td>34.0</td>\n",
       "      <td>0.9978</td>\n",
       "      <td>3.51</td>\n",
       "      <td>0.56</td>\n",
       "      <td>9.4</td>\n",
       "      <td>5</td>\n",
       "    </tr>\n",
       "    <tr>\n",
       "      <th>5</th>\n",
       "      <td>7.4</td>\n",
       "      <td>0.66</td>\n",
       "      <td>0.00</td>\n",
       "      <td>1.8</td>\n",
       "      <td>0.075</td>\n",
       "      <td>13.0</td>\n",
       "      <td>40.0</td>\n",
       "      <td>0.9978</td>\n",
       "      <td>3.51</td>\n",
       "      <td>0.56</td>\n",
       "      <td>9.4</td>\n",
       "      <td>5</td>\n",
       "    </tr>\n",
       "    <tr>\n",
       "      <th>6</th>\n",
       "      <td>7.9</td>\n",
       "      <td>0.60</td>\n",
       "      <td>0.06</td>\n",
       "      <td>1.6</td>\n",
       "      <td>0.069</td>\n",
       "      <td>15.0</td>\n",
       "      <td>59.0</td>\n",
       "      <td>0.9964</td>\n",
       "      <td>3.30</td>\n",
       "      <td>0.46</td>\n",
       "      <td>9.4</td>\n",
       "      <td>5</td>\n",
       "    </tr>\n",
       "    <tr>\n",
       "      <th>7</th>\n",
       "      <td>7.3</td>\n",
       "      <td>0.65</td>\n",
       "      <td>0.00</td>\n",
       "      <td>1.2</td>\n",
       "      <td>0.065</td>\n",
       "      <td>15.0</td>\n",
       "      <td>21.0</td>\n",
       "      <td>0.9946</td>\n",
       "      <td>3.39</td>\n",
       "      <td>0.47</td>\n",
       "      <td>10.0</td>\n",
       "      <td>7</td>\n",
       "    </tr>\n",
       "    <tr>\n",
       "      <th>8</th>\n",
       "      <td>7.8</td>\n",
       "      <td>0.58</td>\n",
       "      <td>0.02</td>\n",
       "      <td>2.0</td>\n",
       "      <td>0.073</td>\n",
       "      <td>9.0</td>\n",
       "      <td>18.0</td>\n",
       "      <td>0.9968</td>\n",
       "      <td>3.36</td>\n",
       "      <td>0.57</td>\n",
       "      <td>9.5</td>\n",
       "      <td>7</td>\n",
       "    </tr>\n",
       "    <tr>\n",
       "      <th>9</th>\n",
       "      <td>7.5</td>\n",
       "      <td>0.50</td>\n",
       "      <td>0.36</td>\n",
       "      <td>6.1</td>\n",
       "      <td>0.071</td>\n",
       "      <td>17.0</td>\n",
       "      <td>102.0</td>\n",
       "      <td>0.9978</td>\n",
       "      <td>3.35</td>\n",
       "      <td>0.80</td>\n",
       "      <td>10.5</td>\n",
       "      <td>5</td>\n",
       "    </tr>\n",
       "  </tbody>\n",
       "</table>\n",
       "</div>"
      ],
      "text/plain": [
       "   fixed acidity  volatile acidity  citric acid  residual sugar  chlorides  \\\n",
       "0            7.4              0.70         0.00             1.9      0.076   \n",
       "1            7.8              0.88         0.00             2.6      0.098   \n",
       "2            7.8              0.76         0.04             2.3      0.092   \n",
       "3           11.2              0.28         0.56             1.9      0.075   \n",
       "4            7.4              0.70         0.00             1.9      0.076   \n",
       "5            7.4              0.66         0.00             1.8      0.075   \n",
       "6            7.9              0.60         0.06             1.6      0.069   \n",
       "7            7.3              0.65         0.00             1.2      0.065   \n",
       "8            7.8              0.58         0.02             2.0      0.073   \n",
       "9            7.5              0.50         0.36             6.1      0.071   \n",
       "\n",
       "   free sulfur dioxide  total sulfur dioxide  density    pH  sulphates  \\\n",
       "0                 11.0                  34.0   0.9978  3.51       0.56   \n",
       "1                 25.0                  67.0   0.9968  3.20       0.68   \n",
       "2                 15.0                  54.0   0.9970  3.26       0.65   \n",
       "3                 17.0                  60.0   0.9980  3.16       0.58   \n",
       "4                 11.0                  34.0   0.9978  3.51       0.56   \n",
       "5                 13.0                  40.0   0.9978  3.51       0.56   \n",
       "6                 15.0                  59.0   0.9964  3.30       0.46   \n",
       "7                 15.0                  21.0   0.9946  3.39       0.47   \n",
       "8                  9.0                  18.0   0.9968  3.36       0.57   \n",
       "9                 17.0                 102.0   0.9978  3.35       0.80   \n",
       "\n",
       "   alcohol  quality  \n",
       "0      9.4        5  \n",
       "1      9.8        5  \n",
       "2      9.8        5  \n",
       "3      9.8        6  \n",
       "4      9.4        5  \n",
       "5      9.4        5  \n",
       "6      9.4        5  \n",
       "7     10.0        7  \n",
       "8      9.5        7  \n",
       "9     10.5        5  "
      ]
     },
     "execution_count": 2,
     "metadata": {},
     "output_type": "execute_result"
    }
   ],
   "source": [
    "data = pd.read_csv('../input/red-wine-quality-cortez-et-al-2009/winequality-red.csv')\n",
    "data.head(10)"
   ]
  },
  {
   "cell_type": "markdown",
   "execution_count": null,
   "metadata": {
    "papermill": {
     "duration": 0.016099,
     "end_time": "2020-08-12T22:50:24.784463",
     "exception": false,
     "start_time": "2020-08-12T22:50:24.768364",
     "status": "completed"
    },
    "tags": []
   },
   "source": [
    "# Exploratory data analysis"
   ]
  },
  {
   "cell_type": "code",
   "execution_count": 3,
   "metadata": {
    "execution": {
     "iopub.execute_input": "2020-08-12T22:50:24.829344Z",
     "iopub.status.busy": "2020-08-12T22:50:24.828160Z",
     "iopub.status.idle": "2020-08-12T22:50:24.833234Z",
     "shell.execute_reply": "2020-08-12T22:50:24.832610Z"
    },
    "papermill": {
     "duration": 0.032512,
     "end_time": "2020-08-12T22:50:24.833374",
     "exception": false,
     "start_time": "2020-08-12T22:50:24.800862",
     "status": "completed"
    },
    "scrolled": false,
    "tags": []
   },
   "outputs": [
    {
     "data": {
      "text/plain": [
       "5    681\n",
       "6    638\n",
       "7    199\n",
       "4     53\n",
       "8     18\n",
       "3     10\n",
       "Name: quality, dtype: int64"
      ]
     },
     "execution_count": 3,
     "metadata": {},
     "output_type": "execute_result"
    }
   ],
   "source": [
    "data['quality'].value_counts()    #Finding the count of the response variable"
   ]
  },
  {
   "cell_type": "code",
   "execution_count": 4,
   "metadata": {
    "execution": {
     "iopub.execute_input": "2020-08-12T22:50:24.877052Z",
     "iopub.status.busy": "2020-08-12T22:50:24.876004Z",
     "iopub.status.idle": "2020-08-12T22:50:24.879764Z",
     "shell.execute_reply": "2020-08-12T22:50:24.879113Z"
    },
    "papermill": {
     "duration": 0.029873,
     "end_time": "2020-08-12T22:50:24.879910",
     "exception": false,
     "start_time": "2020-08-12T22:50:24.850037",
     "status": "completed"
    },
    "tags": []
   },
   "outputs": [],
   "source": [
    "data['Quality'] = data['quality'].apply(lambda x:'1' if x>6 else '0')     #Converting the response variable to Binary"
   ]
  },
  {
   "cell_type": "code",
   "execution_count": 5,
   "metadata": {
    "execution": {
     "iopub.execute_input": "2020-08-12T22:50:24.923687Z",
     "iopub.status.busy": "2020-08-12T22:50:24.922921Z",
     "iopub.status.idle": "2020-08-12T22:50:24.926033Z",
     "shell.execute_reply": "2020-08-12T22:50:24.926629Z"
    },
    "papermill": {
     "duration": 0.030335,
     "end_time": "2020-08-12T22:50:24.926809",
     "exception": false,
     "start_time": "2020-08-12T22:50:24.896474",
     "status": "completed"
    },
    "tags": []
   },
   "outputs": [],
   "source": [
    "data.drop(['quality'],axis=1,inplace=True)    # drop the previous column"
   ]
  },
  {
   "cell_type": "code",
   "execution_count": 6,
   "metadata": {
    "execution": {
     "iopub.execute_input": "2020-08-12T22:50:24.985435Z",
     "iopub.status.busy": "2020-08-12T22:50:24.973817Z",
     "iopub.status.idle": "2020-08-12T22:50:24.991236Z",
     "shell.execute_reply": "2020-08-12T22:50:24.990442Z"
    },
    "papermill": {
     "duration": 0.047903,
     "end_time": "2020-08-12T22:50:24.991388",
     "exception": false,
     "start_time": "2020-08-12T22:50:24.943485",
     "status": "completed"
    },
    "tags": []
   },
   "outputs": [
    {
     "data": {
      "text/html": [
       "<div>\n",
       "<style scoped>\n",
       "    .dataframe tbody tr th:only-of-type {\n",
       "        vertical-align: middle;\n",
       "    }\n",
       "\n",
       "    .dataframe tbody tr th {\n",
       "        vertical-align: top;\n",
       "    }\n",
       "\n",
       "    .dataframe thead th {\n",
       "        text-align: right;\n",
       "    }\n",
       "</style>\n",
       "<table border=\"1\" class=\"dataframe\">\n",
       "  <thead>\n",
       "    <tr style=\"text-align: right;\">\n",
       "      <th></th>\n",
       "      <th>fixed acidity</th>\n",
       "      <th>volatile acidity</th>\n",
       "      <th>citric acid</th>\n",
       "      <th>residual sugar</th>\n",
       "      <th>chlorides</th>\n",
       "      <th>free sulfur dioxide</th>\n",
       "      <th>total sulfur dioxide</th>\n",
       "      <th>density</th>\n",
       "      <th>pH</th>\n",
       "      <th>sulphates</th>\n",
       "      <th>alcohol</th>\n",
       "      <th>Quality</th>\n",
       "    </tr>\n",
       "  </thead>\n",
       "  <tbody>\n",
       "    <tr>\n",
       "      <th>0</th>\n",
       "      <td>7.4</td>\n",
       "      <td>0.70</td>\n",
       "      <td>0.00</td>\n",
       "      <td>1.9</td>\n",
       "      <td>0.076</td>\n",
       "      <td>11.0</td>\n",
       "      <td>34.0</td>\n",
       "      <td>0.9978</td>\n",
       "      <td>3.51</td>\n",
       "      <td>0.56</td>\n",
       "      <td>9.4</td>\n",
       "      <td>0</td>\n",
       "    </tr>\n",
       "    <tr>\n",
       "      <th>1</th>\n",
       "      <td>7.8</td>\n",
       "      <td>0.88</td>\n",
       "      <td>0.00</td>\n",
       "      <td>2.6</td>\n",
       "      <td>0.098</td>\n",
       "      <td>25.0</td>\n",
       "      <td>67.0</td>\n",
       "      <td>0.9968</td>\n",
       "      <td>3.20</td>\n",
       "      <td>0.68</td>\n",
       "      <td>9.8</td>\n",
       "      <td>0</td>\n",
       "    </tr>\n",
       "    <tr>\n",
       "      <th>2</th>\n",
       "      <td>7.8</td>\n",
       "      <td>0.76</td>\n",
       "      <td>0.04</td>\n",
       "      <td>2.3</td>\n",
       "      <td>0.092</td>\n",
       "      <td>15.0</td>\n",
       "      <td>54.0</td>\n",
       "      <td>0.9970</td>\n",
       "      <td>3.26</td>\n",
       "      <td>0.65</td>\n",
       "      <td>9.8</td>\n",
       "      <td>0</td>\n",
       "    </tr>\n",
       "    <tr>\n",
       "      <th>3</th>\n",
       "      <td>11.2</td>\n",
       "      <td>0.28</td>\n",
       "      <td>0.56</td>\n",
       "      <td>1.9</td>\n",
       "      <td>0.075</td>\n",
       "      <td>17.0</td>\n",
       "      <td>60.0</td>\n",
       "      <td>0.9980</td>\n",
       "      <td>3.16</td>\n",
       "      <td>0.58</td>\n",
       "      <td>9.8</td>\n",
       "      <td>0</td>\n",
       "    </tr>\n",
       "    <tr>\n",
       "      <th>4</th>\n",
       "      <td>7.4</td>\n",
       "      <td>0.70</td>\n",
       "      <td>0.00</td>\n",
       "      <td>1.9</td>\n",
       "      <td>0.076</td>\n",
       "      <td>11.0</td>\n",
       "      <td>34.0</td>\n",
       "      <td>0.9978</td>\n",
       "      <td>3.51</td>\n",
       "      <td>0.56</td>\n",
       "      <td>9.4</td>\n",
       "      <td>0</td>\n",
       "    </tr>\n",
       "    <tr>\n",
       "      <th>5</th>\n",
       "      <td>7.4</td>\n",
       "      <td>0.66</td>\n",
       "      <td>0.00</td>\n",
       "      <td>1.8</td>\n",
       "      <td>0.075</td>\n",
       "      <td>13.0</td>\n",
       "      <td>40.0</td>\n",
       "      <td>0.9978</td>\n",
       "      <td>3.51</td>\n",
       "      <td>0.56</td>\n",
       "      <td>9.4</td>\n",
       "      <td>0</td>\n",
       "    </tr>\n",
       "    <tr>\n",
       "      <th>6</th>\n",
       "      <td>7.9</td>\n",
       "      <td>0.60</td>\n",
       "      <td>0.06</td>\n",
       "      <td>1.6</td>\n",
       "      <td>0.069</td>\n",
       "      <td>15.0</td>\n",
       "      <td>59.0</td>\n",
       "      <td>0.9964</td>\n",
       "      <td>3.30</td>\n",
       "      <td>0.46</td>\n",
       "      <td>9.4</td>\n",
       "      <td>0</td>\n",
       "    </tr>\n",
       "    <tr>\n",
       "      <th>7</th>\n",
       "      <td>7.3</td>\n",
       "      <td>0.65</td>\n",
       "      <td>0.00</td>\n",
       "      <td>1.2</td>\n",
       "      <td>0.065</td>\n",
       "      <td>15.0</td>\n",
       "      <td>21.0</td>\n",
       "      <td>0.9946</td>\n",
       "      <td>3.39</td>\n",
       "      <td>0.47</td>\n",
       "      <td>10.0</td>\n",
       "      <td>1</td>\n",
       "    </tr>\n",
       "    <tr>\n",
       "      <th>8</th>\n",
       "      <td>7.8</td>\n",
       "      <td>0.58</td>\n",
       "      <td>0.02</td>\n",
       "      <td>2.0</td>\n",
       "      <td>0.073</td>\n",
       "      <td>9.0</td>\n",
       "      <td>18.0</td>\n",
       "      <td>0.9968</td>\n",
       "      <td>3.36</td>\n",
       "      <td>0.57</td>\n",
       "      <td>9.5</td>\n",
       "      <td>1</td>\n",
       "    </tr>\n",
       "    <tr>\n",
       "      <th>9</th>\n",
       "      <td>7.5</td>\n",
       "      <td>0.50</td>\n",
       "      <td>0.36</td>\n",
       "      <td>6.1</td>\n",
       "      <td>0.071</td>\n",
       "      <td>17.0</td>\n",
       "      <td>102.0</td>\n",
       "      <td>0.9978</td>\n",
       "      <td>3.35</td>\n",
       "      <td>0.80</td>\n",
       "      <td>10.5</td>\n",
       "      <td>0</td>\n",
       "    </tr>\n",
       "  </tbody>\n",
       "</table>\n",
       "</div>"
      ],
      "text/plain": [
       "   fixed acidity  volatile acidity  citric acid  residual sugar  chlorides  \\\n",
       "0            7.4              0.70         0.00             1.9      0.076   \n",
       "1            7.8              0.88         0.00             2.6      0.098   \n",
       "2            7.8              0.76         0.04             2.3      0.092   \n",
       "3           11.2              0.28         0.56             1.9      0.075   \n",
       "4            7.4              0.70         0.00             1.9      0.076   \n",
       "5            7.4              0.66         0.00             1.8      0.075   \n",
       "6            7.9              0.60         0.06             1.6      0.069   \n",
       "7            7.3              0.65         0.00             1.2      0.065   \n",
       "8            7.8              0.58         0.02             2.0      0.073   \n",
       "9            7.5              0.50         0.36             6.1      0.071   \n",
       "\n",
       "   free sulfur dioxide  total sulfur dioxide  density    pH  sulphates  \\\n",
       "0                 11.0                  34.0   0.9978  3.51       0.56   \n",
       "1                 25.0                  67.0   0.9968  3.20       0.68   \n",
       "2                 15.0                  54.0   0.9970  3.26       0.65   \n",
       "3                 17.0                  60.0   0.9980  3.16       0.58   \n",
       "4                 11.0                  34.0   0.9978  3.51       0.56   \n",
       "5                 13.0                  40.0   0.9978  3.51       0.56   \n",
       "6                 15.0                  59.0   0.9964  3.30       0.46   \n",
       "7                 15.0                  21.0   0.9946  3.39       0.47   \n",
       "8                  9.0                  18.0   0.9968  3.36       0.57   \n",
       "9                 17.0                 102.0   0.9978  3.35       0.80   \n",
       "\n",
       "   alcohol Quality  \n",
       "0      9.4       0  \n",
       "1      9.8       0  \n",
       "2      9.8       0  \n",
       "3      9.8       0  \n",
       "4      9.4       0  \n",
       "5      9.4       0  \n",
       "6      9.4       0  \n",
       "7     10.0       1  \n",
       "8      9.5       1  \n",
       "9     10.5       0  "
      ]
     },
     "execution_count": 6,
     "metadata": {},
     "output_type": "execute_result"
    }
   ],
   "source": [
    "data.head(10)"
   ]
  },
  {
   "cell_type": "markdown",
   "execution_count": null,
   "metadata": {
    "papermill": {
     "duration": 0.021881,
     "end_time": "2020-08-12T22:50:25.034429",
     "exception": false,
     "start_time": "2020-08-12T22:50:25.012548",
     "status": "completed"
    },
    "tags": []
   },
   "source": [
    "  "
   ]
  },
  {
   "cell_type": "markdown",
   "execution_count": null,
   "metadata": {
    "papermill": {
     "duration": 0.017699,
     "end_time": "2020-08-12T22:50:25.070782",
     "exception": false,
     "start_time": "2020-08-12T22:50:25.053083",
     "status": "completed"
    },
    "tags": []
   },
   "source": [
    " "
   ]
  },
  {
   "cell_type": "code",
   "execution_count": 7,
   "metadata": {
    "execution": {
     "iopub.execute_input": "2020-08-12T22:50:25.116198Z",
     "iopub.status.busy": "2020-08-12T22:50:25.114857Z",
     "iopub.status.idle": "2020-08-12T22:50:25.119814Z",
     "shell.execute_reply": "2020-08-12T22:50:25.118984Z"
    },
    "papermill": {
     "duration": 0.031536,
     "end_time": "2020-08-12T22:50:25.119960",
     "exception": false,
     "start_time": "2020-08-12T22:50:25.088424",
     "status": "completed"
    },
    "tags": []
   },
   "outputs": [
    {
     "data": {
      "text/plain": [
       "fixed acidity           0\n",
       "volatile acidity        0\n",
       "citric acid             0\n",
       "residual sugar          0\n",
       "chlorides               0\n",
       "free sulfur dioxide     0\n",
       "total sulfur dioxide    0\n",
       "density                 0\n",
       "pH                      0\n",
       "sulphates               0\n",
       "alcohol                 0\n",
       "Quality                 0\n",
       "dtype: int64"
      ]
     },
     "execution_count": 7,
     "metadata": {},
     "output_type": "execute_result"
    }
   ],
   "source": [
    "data.isna().sum()       #Checking for null values"
   ]
  },
  {
   "cell_type": "code",
   "execution_count": 8,
   "metadata": {
    "execution": {
     "iopub.execute_input": "2020-08-12T22:50:25.164805Z",
     "iopub.status.busy": "2020-08-12T22:50:25.163922Z",
     "iopub.status.idle": "2020-08-12T22:50:25.213232Z",
     "shell.execute_reply": "2020-08-12T22:50:25.212383Z"
    },
    "papermill": {
     "duration": 0.07578,
     "end_time": "2020-08-12T22:50:25.213366",
     "exception": false,
     "start_time": "2020-08-12T22:50:25.137586",
     "status": "completed"
    },
    "tags": []
   },
   "outputs": [
    {
     "data": {
      "text/html": [
       "<div>\n",
       "<style scoped>\n",
       "    .dataframe tbody tr th:only-of-type {\n",
       "        vertical-align: middle;\n",
       "    }\n",
       "\n",
       "    .dataframe tbody tr th {\n",
       "        vertical-align: top;\n",
       "    }\n",
       "\n",
       "    .dataframe thead th {\n",
       "        text-align: right;\n",
       "    }\n",
       "</style>\n",
       "<table border=\"1\" class=\"dataframe\">\n",
       "  <thead>\n",
       "    <tr style=\"text-align: right;\">\n",
       "      <th></th>\n",
       "      <th>fixed acidity</th>\n",
       "      <th>volatile acidity</th>\n",
       "      <th>citric acid</th>\n",
       "      <th>residual sugar</th>\n",
       "      <th>chlorides</th>\n",
       "      <th>free sulfur dioxide</th>\n",
       "      <th>total sulfur dioxide</th>\n",
       "      <th>density</th>\n",
       "      <th>pH</th>\n",
       "      <th>sulphates</th>\n",
       "      <th>alcohol</th>\n",
       "    </tr>\n",
       "  </thead>\n",
       "  <tbody>\n",
       "    <tr>\n",
       "      <th>count</th>\n",
       "      <td>1599.000000</td>\n",
       "      <td>1599.000000</td>\n",
       "      <td>1599.000000</td>\n",
       "      <td>1599.000000</td>\n",
       "      <td>1599.000000</td>\n",
       "      <td>1599.000000</td>\n",
       "      <td>1599.000000</td>\n",
       "      <td>1599.000000</td>\n",
       "      <td>1599.000000</td>\n",
       "      <td>1599.000000</td>\n",
       "      <td>1599.000000</td>\n",
       "    </tr>\n",
       "    <tr>\n",
       "      <th>mean</th>\n",
       "      <td>8.319637</td>\n",
       "      <td>0.527821</td>\n",
       "      <td>0.270976</td>\n",
       "      <td>2.538806</td>\n",
       "      <td>0.087467</td>\n",
       "      <td>15.874922</td>\n",
       "      <td>46.467792</td>\n",
       "      <td>0.996747</td>\n",
       "      <td>3.311113</td>\n",
       "      <td>0.658149</td>\n",
       "      <td>10.422983</td>\n",
       "    </tr>\n",
       "    <tr>\n",
       "      <th>std</th>\n",
       "      <td>1.741096</td>\n",
       "      <td>0.179060</td>\n",
       "      <td>0.194801</td>\n",
       "      <td>1.409928</td>\n",
       "      <td>0.047065</td>\n",
       "      <td>10.460157</td>\n",
       "      <td>32.895324</td>\n",
       "      <td>0.001887</td>\n",
       "      <td>0.154386</td>\n",
       "      <td>0.169507</td>\n",
       "      <td>1.065668</td>\n",
       "    </tr>\n",
       "    <tr>\n",
       "      <th>min</th>\n",
       "      <td>4.600000</td>\n",
       "      <td>0.120000</td>\n",
       "      <td>0.000000</td>\n",
       "      <td>0.900000</td>\n",
       "      <td>0.012000</td>\n",
       "      <td>1.000000</td>\n",
       "      <td>6.000000</td>\n",
       "      <td>0.990070</td>\n",
       "      <td>2.740000</td>\n",
       "      <td>0.330000</td>\n",
       "      <td>8.400000</td>\n",
       "    </tr>\n",
       "    <tr>\n",
       "      <th>25%</th>\n",
       "      <td>7.100000</td>\n",
       "      <td>0.390000</td>\n",
       "      <td>0.090000</td>\n",
       "      <td>1.900000</td>\n",
       "      <td>0.070000</td>\n",
       "      <td>7.000000</td>\n",
       "      <td>22.000000</td>\n",
       "      <td>0.995600</td>\n",
       "      <td>3.210000</td>\n",
       "      <td>0.550000</td>\n",
       "      <td>9.500000</td>\n",
       "    </tr>\n",
       "    <tr>\n",
       "      <th>50%</th>\n",
       "      <td>7.900000</td>\n",
       "      <td>0.520000</td>\n",
       "      <td>0.260000</td>\n",
       "      <td>2.200000</td>\n",
       "      <td>0.079000</td>\n",
       "      <td>14.000000</td>\n",
       "      <td>38.000000</td>\n",
       "      <td>0.996750</td>\n",
       "      <td>3.310000</td>\n",
       "      <td>0.620000</td>\n",
       "      <td>10.200000</td>\n",
       "    </tr>\n",
       "    <tr>\n",
       "      <th>75%</th>\n",
       "      <td>9.200000</td>\n",
       "      <td>0.640000</td>\n",
       "      <td>0.420000</td>\n",
       "      <td>2.600000</td>\n",
       "      <td>0.090000</td>\n",
       "      <td>21.000000</td>\n",
       "      <td>62.000000</td>\n",
       "      <td>0.997835</td>\n",
       "      <td>3.400000</td>\n",
       "      <td>0.730000</td>\n",
       "      <td>11.100000</td>\n",
       "    </tr>\n",
       "    <tr>\n",
       "      <th>max</th>\n",
       "      <td>15.900000</td>\n",
       "      <td>1.580000</td>\n",
       "      <td>1.000000</td>\n",
       "      <td>15.500000</td>\n",
       "      <td>0.611000</td>\n",
       "      <td>72.000000</td>\n",
       "      <td>289.000000</td>\n",
       "      <td>1.003690</td>\n",
       "      <td>4.010000</td>\n",
       "      <td>2.000000</td>\n",
       "      <td>14.900000</td>\n",
       "    </tr>\n",
       "  </tbody>\n",
       "</table>\n",
       "</div>"
      ],
      "text/plain": [
       "       fixed acidity  volatile acidity  citric acid  residual sugar  \\\n",
       "count    1599.000000       1599.000000  1599.000000     1599.000000   \n",
       "mean        8.319637          0.527821     0.270976        2.538806   \n",
       "std         1.741096          0.179060     0.194801        1.409928   \n",
       "min         4.600000          0.120000     0.000000        0.900000   \n",
       "25%         7.100000          0.390000     0.090000        1.900000   \n",
       "50%         7.900000          0.520000     0.260000        2.200000   \n",
       "75%         9.200000          0.640000     0.420000        2.600000   \n",
       "max        15.900000          1.580000     1.000000       15.500000   \n",
       "\n",
       "         chlorides  free sulfur dioxide  total sulfur dioxide      density  \\\n",
       "count  1599.000000          1599.000000           1599.000000  1599.000000   \n",
       "mean      0.087467            15.874922             46.467792     0.996747   \n",
       "std       0.047065            10.460157             32.895324     0.001887   \n",
       "min       0.012000             1.000000              6.000000     0.990070   \n",
       "25%       0.070000             7.000000             22.000000     0.995600   \n",
       "50%       0.079000            14.000000             38.000000     0.996750   \n",
       "75%       0.090000            21.000000             62.000000     0.997835   \n",
       "max       0.611000            72.000000            289.000000     1.003690   \n",
       "\n",
       "                pH    sulphates      alcohol  \n",
       "count  1599.000000  1599.000000  1599.000000  \n",
       "mean      3.311113     0.658149    10.422983  \n",
       "std       0.154386     0.169507     1.065668  \n",
       "min       2.740000     0.330000     8.400000  \n",
       "25%       3.210000     0.550000     9.500000  \n",
       "50%       3.310000     0.620000    10.200000  \n",
       "75%       3.400000     0.730000    11.100000  \n",
       "max       4.010000     2.000000    14.900000  "
      ]
     },
     "execution_count": 8,
     "metadata": {},
     "output_type": "execute_result"
    }
   ],
   "source": [
    "data.describe()"
   ]
  },
  {
   "cell_type": "markdown",
   "execution_count": null,
   "metadata": {
    "papermill": {
     "duration": 0.018295,
     "end_time": "2020-08-12T22:50:25.249871",
     "exception": false,
     "start_time": "2020-08-12T22:50:25.231576",
     "status": "completed"
    },
    "tags": []
   },
   "source": [
    "# Checking for outliers"
   ]
  },
  {
   "cell_type": "code",
   "execution_count": 9,
   "metadata": {
    "execution": {
     "iopub.execute_input": "2020-08-12T22:50:25.293318Z",
     "iopub.status.busy": "2020-08-12T22:50:25.292502Z",
     "iopub.status.idle": "2020-08-12T22:50:25.472881Z",
     "shell.execute_reply": "2020-08-12T22:50:25.472139Z"
    },
    "papermill": {
     "duration": 0.204168,
     "end_time": "2020-08-12T22:50:25.473019",
     "exception": false,
     "start_time": "2020-08-12T22:50:25.268851",
     "status": "completed"
    },
    "tags": []
   },
   "outputs": [
    {
     "data": {
      "image/png": "[encoded data removed]",
      "text/plain": [
       "<Figure size 432x288 with 1 Axes>"
      ]
     },
     "metadata": {
      "needs_background": "light"
     },
     "output_type": "display_data"
    }
   ],
   "source": [
    "plt.boxplot(data['total sulfur dioxide'])\n",
    "plt.show()"
   ]
  },
  {
   "cell_type": "code",
   "execution_count": 10,
   "metadata": {
    "execution": {
     "iopub.execute_input": "2020-08-12T22:50:25.516044Z",
     "iopub.status.busy": "2020-08-12T22:50:25.515216Z",
     "iopub.status.idle": "2020-08-12T22:50:25.539887Z",
     "shell.execute_reply": "2020-08-12T22:50:25.540539Z"
    },
    "papermill": {
     "duration": 0.049911,
     "end_time": "2020-08-12T22:50:25.540717",
     "exception": false,
     "start_time": "2020-08-12T22:50:25.490806",
     "status": "completed"
    },
    "tags": []
   },
   "outputs": [
    {
     "name": "stdout",
     "output_type": "stream",
     "text": [
      "fixed acidity            2.100000\n",
      "volatile acidity         0.250000\n",
      "citric acid              0.330000\n",
      "residual sugar           0.700000\n",
      "chlorides                0.020000\n",
      "free sulfur dioxide     14.000000\n",
      "total sulfur dioxide    40.000000\n",
      "density                  0.002235\n",
      "pH                       0.190000\n",
      "sulphates                0.180000\n",
      "alcohol                  1.600000\n",
      "dtype: float64\n"
     ]
    }
   ],
   "source": [
    "Q1 = data.quantile(0.25)\n",
    "Q3 = data.quantile(0.75)\n",
    "IQR = Q3 - Q1\n",
    "print(IQR)            #Finding Inter Quartile range"
   ]
  },
  {
   "cell_type": "code",
   "execution_count": 11,
   "metadata": {
    "execution": {
     "iopub.execute_input": "2020-08-12T22:50:25.589085Z",
     "iopub.status.busy": "2020-08-12T22:50:25.588288Z",
     "iopub.status.idle": "2020-08-12T22:50:25.597814Z",
     "shell.execute_reply": "2020-08-12T22:50:25.597003Z"
    },
    "papermill": {
     "duration": 0.039187,
     "end_time": "2020-08-12T22:50:25.597946",
     "exception": false,
     "start_time": "2020-08-12T22:50:25.558759",
     "status": "completed"
    },
    "tags": []
   },
   "outputs": [],
   "source": [
    "data = data[~((data < (Q1 - 1.5 * IQR)) |(data > (Q3 + 1.5 * IQR))).any(axis=1)]\n",
    "data.reset_index(inplace=True,drop=True)          # Removing the outliers"
   ]
  },
  {
   "cell_type": "code",
   "execution_count": 12,
   "metadata": {
    "execution": {
     "iopub.execute_input": "2020-08-12T22:50:25.643826Z",
     "iopub.status.busy": "2020-08-12T22:50:25.642834Z",
     "iopub.status.idle": "2020-08-12T22:50:25.648019Z",
     "shell.execute_reply": "2020-08-12T22:50:25.647217Z"
    },
    "papermill": {
     "duration": 0.031978,
     "end_time": "2020-08-12T22:50:25.648157",
     "exception": false,
     "start_time": "2020-08-12T22:50:25.616179",
     "status": "completed"
    },
    "tags": []
   },
   "outputs": [
    {
     "data": {
      "text/plain": [
       "0    1047\n",
       "1     147\n",
       "Name: Quality, dtype: int64"
      ]
     },
     "execution_count": 12,
     "metadata": {},
     "output_type": "execute_result"
    }
   ],
   "source": [
    "data.Quality.value_counts()"
   ]
  },
  {
   "cell_type": "code",
   "execution_count": 13,
   "metadata": {
    "execution": {
     "iopub.execute_input": "2020-08-12T22:50:25.694366Z",
     "iopub.status.busy": "2020-08-12T22:50:25.693302Z",
     "iopub.status.idle": "2020-08-12T22:50:25.699206Z",
     "shell.execute_reply": "2020-08-12T22:50:25.699926Z"
    },
    "papermill": {
     "duration": 0.03356,
     "end_time": "2020-08-12T22:50:25.700111",
     "exception": false,
     "start_time": "2020-08-12T22:50:25.666551",
     "status": "completed"
    },
    "tags": []
   },
   "outputs": [
    {
     "data": {
      "text/plain": [
       "0.12311557788944724"
      ]
     },
     "execution_count": 13,
     "metadata": {},
     "output_type": "execute_result"
    }
   ],
   "source": [
    "147/(1047+147)"
   ]
  },
  {
   "cell_type": "code",
   "execution_count": 14,
   "metadata": {
    "execution": {
     "iopub.execute_input": "2020-08-12T22:50:25.754564Z",
     "iopub.status.busy": "2020-08-12T22:50:25.753371Z",
     "iopub.status.idle": "2020-08-12T22:50:25.758395Z",
     "shell.execute_reply": "2020-08-12T22:50:25.757366Z"
    },
    "papermill": {
     "duration": 0.035424,
     "end_time": "2020-08-12T22:50:25.758599",
     "exception": false,
     "start_time": "2020-08-12T22:50:25.723175",
     "status": "completed"
    },
    "tags": []
   },
   "outputs": [
    {
     "name": "stdout",
     "output_type": "stream",
     "text": [
      "{0: 'fixed acidity', 1: 'volatile acidity', 2: 'citric acid', 3: 'residual sugar', 4: 'chlorides', 5: 'free sulfur dioxide', 6: 'total sulfur dioxide', 7: 'density', 8: 'pH', 9: 'sulphates', 10: 'alcohol'}\n"
     ]
    }
   ],
   "source": [
    "index = list(range(0,12))\n",
    "columns = list(data.columns[0:11])\n",
    "dictc = dict(zip(index,columns))\n",
    "print(dictc)          # creating column names"
   ]
  },
  {
   "cell_type": "markdown",
   "execution_count": null,
   "metadata": {
    "papermill": {
     "duration": 0.018258,
     "end_time": "2020-08-12T22:50:25.799284",
     "exception": false,
     "start_time": "2020-08-12T22:50:25.781026",
     "status": "completed"
    },
    "tags": []
   },
   "source": [
    "# Splitting the data and standardizing the data"
   ]
  },
  {
   "cell_type": "code",
   "execution_count": 15,
   "metadata": {
    "execution": {
     "iopub.execute_input": "2020-08-12T22:50:25.849262Z",
     "iopub.status.busy": "2020-08-12T22:50:25.848437Z",
     "iopub.status.idle": "2020-08-12T22:50:25.860419Z",
     "shell.execute_reply": "2020-08-12T22:50:25.859740Z"
    },
    "papermill": {
     "duration": 0.042804,
     "end_time": "2020-08-12T22:50:25.860576",
     "exception": false,
     "start_time": "2020-08-12T22:50:25.817772",
     "status": "completed"
    },
    "tags": []
   },
   "outputs": [],
   "source": [
    "x = data.drop(['Quality'],axis=1)\n",
    "y = data['Quality']\n",
    "scaler = StandardScaler()\n",
    "scaler.fit(x)\n",
    "x= scaler.transform(x)\n",
    "x = pd.DataFrame(x)\n",
    "x=x.rename(columns=dictc)\n",
    "\n",
    "x_train,x_test,y_train,y_test = train_test_split(x,y,test_size=0.3,random_state=42)\n",
    "#len(x_test),len(x_train),len(y_train),len(y_test)\n",
    "y_train = np.ravel(y_train)"
   ]
  },
  {
   "cell_type": "markdown",
   "execution_count": null,
   "metadata": {
    "papermill": {
     "duration": 0.018259,
     "end_time": "2020-08-12T22:50:25.897977",
     "exception": false,
     "start_time": "2020-08-12T22:50:25.879718",
     "status": "completed"
    },
    "tags": []
   },
   "source": [
    "# Running a Naive Logistic regression test"
   ]
  },
  {
   "cell_type": "code",
   "execution_count": 16,
   "metadata": {
    "execution": {
     "iopub.execute_input": "2020-08-12T22:50:25.942918Z",
     "iopub.status.busy": "2020-08-12T22:50:25.942052Z",
     "iopub.status.idle": "2020-08-12T22:50:26.035703Z",
     "shell.execute_reply": "2020-08-12T22:50:26.034854Z"
    },
    "papermill": {
     "duration": 0.119165,
     "end_time": "2020-08-12T22:50:26.035854",
     "exception": false,
     "start_time": "2020-08-12T22:50:25.916689",
     "status": "completed"
    },
    "tags": []
   },
   "outputs": [
    {
     "name": "stdout",
     "output_type": "stream",
     "text": [
      "Optimization terminated successfully.\n",
      "         Current function value: 0.240243\n",
      "         Iterations 8\n",
      "                           Logit Regression Results                           \n",
      "==============================================================================\n",
      "Dep. Variable:                Quality   No. Observations:                 1194\n",
      "Model:                          Logit   Df Residuals:                     1182\n",
      "Method:                           MLE   Df Model:                           11\n",
      "Date:                Wed, 12 Aug 2020   Pseudo R-squ.:                  0.3561\n",
      "Time:                        22:50:26   Log-Likelihood:                -286.85\n",
      "converged:                       True   LL-Null:                       -445.47\n",
      "Covariance Type:            nonrobust   LLR p-value:                 2.037e-61\n",
      "========================================================================================\n",
      "                           coef    std err          z      P>|z|      [0.025      0.975]\n",
      "----------------------------------------------------------------------------------------\n",
      "const                   -3.1687      0.190    -16.672      0.000      -3.541      -2.796\n",
      "fixed acidity            0.1632      0.253      0.646      0.519      -0.332       0.659\n",
      "volatile acidity        -0.3811      0.175     -2.175      0.030      -0.725      -0.038\n",
      "citric acid             -0.0270      0.204     -0.133      0.895      -0.426       0.372\n",
      "residual sugar           0.0145      0.137      0.106      0.916      -0.254       0.283\n",
      "chlorides                0.0088      0.117      0.075      0.940      -0.220       0.238\n",
      "free sulfur dioxide      0.0418      0.155      0.269      0.788      -0.262       0.346\n",
      "total sulfur dioxide    -0.5280      0.215     -2.461      0.014      -0.949      -0.108\n",
      "density                 -0.2063      0.265     -0.778      0.436      -0.726       0.313\n",
      "pH                      -0.2172      0.191     -1.136      0.256      -0.592       0.158\n",
      "sulphates                0.7973      0.115      6.928      0.000       0.572       1.023\n",
      "alcohol                  1.0890      0.204      5.326      0.000       0.688       1.490\n",
      "========================================================================================\n"
     ]
    }
   ],
   "source": [
    "logit1 = sm.Logit(y.astype(float),sm.add_constant(x.astype(float))).fit()\n",
    "print(logit1.summary())"
   ]
  },
  {
   "cell_type": "markdown",
   "execution_count": null,
   "metadata": {
    "papermill": {
     "duration": 0.018693,
     "end_time": "2020-08-12T22:50:26.073669",
     "exception": false,
     "start_time": "2020-08-12T22:50:26.054976",
     "status": "completed"
    },
    "tags": []
   },
   "source": [
    "# Predicting the test and train sets"
   ]
  },
  {
   "cell_type": "code",
   "execution_count": 17,
   "metadata": {
    "execution": {
     "iopub.execute_input": "2020-08-12T22:50:26.126961Z",
     "iopub.status.busy": "2020-08-12T22:50:26.126156Z",
     "iopub.status.idle": "2020-08-12T22:50:26.147401Z",
     "shell.execute_reply": "2020-08-12T22:50:26.146729Z"
    },
    "papermill": {
     "duration": 0.054991,
     "end_time": "2020-08-12T22:50:26.147556",
     "exception": false,
     "start_time": "2020-08-12T22:50:26.092565",
     "status": "completed"
    },
    "tags": []
   },
   "outputs": [],
   "source": [
    "logit = LogisticRegression(solver='lbfgs')\n",
    "logit.fit(x_train,y_train)\n",
    "predict = logit.predict(x_test)\n",
    "predictt = logit.predict(x_train)"
   ]
  },
  {
   "cell_type": "code",
   "execution_count": 18,
   "metadata": {
    "execution": {
     "iopub.execute_input": "2020-08-12T22:50:26.195779Z",
     "iopub.status.busy": "2020-08-12T22:50:26.194777Z",
     "iopub.status.idle": "2020-08-12T22:50:26.198417Z",
     "shell.execute_reply": "2020-08-12T22:50:26.197690Z"
    },
    "papermill": {
     "duration": 0.031875,
     "end_time": "2020-08-12T22:50:26.198618",
     "exception": false,
     "start_time": "2020-08-12T22:50:26.166743",
     "status": "completed"
    },
    "tags": []
   },
   "outputs": [],
   "source": [
    "prob_test = logit.predict_proba(x_test)[:,1]\n",
    "#print(prob_test.reshape(1,-1))"
   ]
  },
  {
   "cell_type": "code",
   "execution_count": 19,
   "metadata": {
    "execution": {
     "iopub.execute_input": "2020-08-12T22:50:26.246407Z",
     "iopub.status.busy": "2020-08-12T22:50:26.245489Z",
     "iopub.status.idle": "2020-08-12T22:50:26.250005Z",
     "shell.execute_reply": "2020-08-12T22:50:26.249297Z"
    },
    "papermill": {
     "duration": 0.031718,
     "end_time": "2020-08-12T22:50:26.250138",
     "exception": false,
     "start_time": "2020-08-12T22:50:26.218420",
     "status": "completed"
    },
    "tags": []
   },
   "outputs": [],
   "source": [
    "prob_train = logit.predict_proba(x_train)[:,1]\n",
    "#print(prob_train.reshape(1,-1))"
   ]
  },
  {
   "cell_type": "code",
   "execution_count": 20,
   "metadata": {
    "execution": {
     "iopub.execute_input": "2020-08-12T22:50:26.295967Z",
     "iopub.status.busy": "2020-08-12T22:50:26.294477Z",
     "iopub.status.idle": "2020-08-12T22:50:26.300452Z",
     "shell.execute_reply": "2020-08-12T22:50:26.301019Z"
    },
    "papermill": {
     "duration": 0.031832,
     "end_time": "2020-08-12T22:50:26.301195",
     "exception": false,
     "start_time": "2020-08-12T22:50:26.269363",
     "status": "completed"
    },
    "tags": []
   },
   "outputs": [
    {
     "data": {
      "text/plain": [
       "0.8746518105849582"
      ]
     },
     "execution_count": 20,
     "metadata": {},
     "output_type": "execute_result"
    }
   ],
   "source": [
    "accuracy_score(y_test,predict)"
   ]
  },
  {
   "cell_type": "code",
   "execution_count": 21,
   "metadata": {
    "execution": {
     "iopub.execute_input": "2020-08-12T22:50:26.351379Z",
     "iopub.status.busy": "2020-08-12T22:50:26.350227Z",
     "iopub.status.idle": "2020-08-12T22:50:26.355417Z",
     "shell.execute_reply": "2020-08-12T22:50:26.354824Z"
    },
    "papermill": {
     "duration": 0.034987,
     "end_time": "2020-08-12T22:50:26.355568",
     "exception": false,
     "start_time": "2020-08-12T22:50:26.320581",
     "status": "completed"
    },
    "tags": []
   },
   "outputs": [
    {
     "data": {
      "text/plain": [
       "array([[301,  18],\n",
       "       [ 27,  13]])"
      ]
     },
     "execution_count": 21,
     "metadata": {},
     "output_type": "execute_result"
    }
   ],
   "source": [
    "confusion_matrix(y_test,predict)"
   ]
  },
  {
   "cell_type": "code",
   "execution_count": 22,
   "metadata": {
    "execution": {
     "iopub.execute_input": "2020-08-12T22:50:26.421250Z",
     "iopub.status.busy": "2020-08-12T22:50:26.415464Z",
     "iopub.status.idle": "2020-08-12T22:50:26.426434Z",
     "shell.execute_reply": "2020-08-12T22:50:26.425799Z"
    },
    "papermill": {
     "duration": 0.051579,
     "end_time": "2020-08-12T22:50:26.426581",
     "exception": false,
     "start_time": "2020-08-12T22:50:26.375002",
     "status": "completed"
    },
    "tags": []
   },
   "outputs": [
    {
     "name": "stdout",
     "output_type": "stream",
     "text": [
      "              precision    recall  f1-score   support\n",
      "\n",
      "           0       0.92      0.94      0.93       319\n",
      "           1       0.42      0.33      0.37        40\n",
      "\n",
      "    accuracy                           0.87       359\n",
      "   macro avg       0.67      0.63      0.65       359\n",
      "weighted avg       0.86      0.87      0.87       359\n",
      "\n"
     ]
    }
   ],
   "source": [
    "print(classification_report(y_test,predict))"
   ]
  },
  {
   "cell_type": "markdown",
   "execution_count": null,
   "metadata": {
    "papermill": {
     "duration": 0.019134,
     "end_time": "2020-08-12T22:50:26.465195",
     "exception": false,
     "start_time": "2020-08-12T22:50:26.446061",
     "status": "completed"
    },
    "tags": []
   },
   "source": [
    "# Dropping all the variables with no significance"
   ]
  },
  {
   "cell_type": "code",
   "execution_count": 23,
   "metadata": {
    "execution": {
     "iopub.execute_input": "2020-08-12T22:50:26.512304Z",
     "iopub.status.busy": "2020-08-12T22:50:26.511264Z",
     "iopub.status.idle": "2020-08-12T22:50:26.513936Z",
     "shell.execute_reply": "2020-08-12T22:50:26.514467Z"
    },
    "papermill": {
     "duration": 0.029891,
     "end_time": "2020-08-12T22:50:26.514657",
     "exception": false,
     "start_time": "2020-08-12T22:50:26.484766",
     "status": "completed"
    },
    "tags": []
   },
   "outputs": [],
   "source": [
    "data.drop(['fixed acidity'],axis=1,inplace=True)"
   ]
  },
  {
   "cell_type": "code",
   "execution_count": 24,
   "metadata": {
    "execution": {
     "iopub.execute_input": "2020-08-12T22:50:26.562246Z",
     "iopub.status.busy": "2020-08-12T22:50:26.561095Z",
     "iopub.status.idle": "2020-08-12T22:50:26.564853Z",
     "shell.execute_reply": "2020-08-12T22:50:26.564086Z"
    },
    "papermill": {
     "duration": 0.030617,
     "end_time": "2020-08-12T22:50:26.564995",
     "exception": false,
     "start_time": "2020-08-12T22:50:26.534378",
     "status": "completed"
    },
    "tags": []
   },
   "outputs": [],
   "source": [
    "data.drop(['residual sugar'],axis=1,inplace=True)"
   ]
  },
  {
   "cell_type": "code",
   "execution_count": 25,
   "metadata": {
    "execution": {
     "iopub.execute_input": "2020-08-12T22:50:26.611831Z",
     "iopub.status.busy": "2020-08-12T22:50:26.610851Z",
     "iopub.status.idle": "2020-08-12T22:50:26.614670Z",
     "shell.execute_reply": "2020-08-12T22:50:26.613913Z"
    },
    "papermill": {
     "duration": 0.030201,
     "end_time": "2020-08-12T22:50:26.614799",
     "exception": false,
     "start_time": "2020-08-12T22:50:26.584598",
     "status": "completed"
    },
    "tags": []
   },
   "outputs": [],
   "source": [
    "data.drop(['density'],axis=1,inplace=True)"
   ]
  },
  {
   "cell_type": "code",
   "execution_count": 26,
   "metadata": {
    "execution": {
     "iopub.execute_input": "2020-08-12T22:50:26.662593Z",
     "iopub.status.busy": "2020-08-12T22:50:26.661386Z",
     "iopub.status.idle": "2020-08-12T22:50:26.665013Z",
     "shell.execute_reply": "2020-08-12T22:50:26.664309Z"
    },
    "papermill": {
     "duration": 0.03047,
     "end_time": "2020-08-12T22:50:26.665141",
     "exception": false,
     "start_time": "2020-08-12T22:50:26.634671",
     "status": "completed"
    },
    "tags": []
   },
   "outputs": [],
   "source": [
    "data.drop(['pH'],axis=1,inplace=True)"
   ]
  },
  {
   "cell_type": "code",
   "execution_count": 27,
   "metadata": {
    "execution": {
     "iopub.execute_input": "2020-08-12T22:50:26.714856Z",
     "iopub.status.busy": "2020-08-12T22:50:26.713683Z",
     "iopub.status.idle": "2020-08-12T22:50:26.717540Z",
     "shell.execute_reply": "2020-08-12T22:50:26.716767Z"
    },
    "papermill": {
     "duration": 0.032507,
     "end_time": "2020-08-12T22:50:26.717690",
     "exception": false,
     "start_time": "2020-08-12T22:50:26.685183",
     "status": "completed"
    },
    "tags": []
   },
   "outputs": [],
   "source": [
    "data.drop(['chlorides'],axis=1,inplace=True)"
   ]
  },
  {
   "cell_type": "code",
   "execution_count": 28,
   "metadata": {
    "execution": {
     "iopub.execute_input": "2020-08-12T22:50:26.818472Z",
     "iopub.status.busy": "2020-08-12T22:50:26.817311Z",
     "iopub.status.idle": "2020-08-12T22:50:26.820730Z",
     "shell.execute_reply": "2020-08-12T22:50:26.820080Z"
    },
    "papermill": {
     "duration": 0.082821,
     "end_time": "2020-08-12T22:50:26.820863",
     "exception": false,
     "start_time": "2020-08-12T22:50:26.738042",
     "status": "completed"
    },
    "tags": []
   },
   "outputs": [],
   "source": [
    "data.drop(['citric acid'],axis=1,inplace=True)"
   ]
  },
  {
   "cell_type": "code",
   "execution_count": 29,
   "metadata": {
    "execution": {
     "iopub.execute_input": "2020-08-12T22:50:26.869395Z",
     "iopub.status.busy": "2020-08-12T22:50:26.868405Z",
     "iopub.status.idle": "2020-08-12T22:50:26.872145Z",
     "shell.execute_reply": "2020-08-12T22:50:26.871408Z"
    },
    "papermill": {
     "duration": 0.031248,
     "end_time": "2020-08-12T22:50:26.872286",
     "exception": false,
     "start_time": "2020-08-12T22:50:26.841038",
     "status": "completed"
    },
    "tags": []
   },
   "outputs": [],
   "source": [
    "data.drop(['free sulfur dioxide'],axis=1,inplace=True)"
   ]
  },
  {
   "cell_type": "code",
   "execution_count": 30,
   "metadata": {
    "execution": {
     "iopub.execute_input": "2020-08-12T22:50:26.920759Z",
     "iopub.status.busy": "2020-08-12T22:50:26.919746Z",
     "iopub.status.idle": "2020-08-12T22:50:26.922466Z",
     "shell.execute_reply": "2020-08-12T22:50:26.923050Z"
    },
    "papermill": {
     "duration": 0.030644,
     "end_time": "2020-08-12T22:50:26.923251",
     "exception": false,
     "start_time": "2020-08-12T22:50:26.892607",
     "status": "completed"
    },
    "tags": []
   },
   "outputs": [],
   "source": [
    "x = data.drop(['Quality'],axis=1)\n",
    "y = data['Quality']\n"
   ]
  },
  {
   "cell_type": "markdown",
   "execution_count": null,
   "metadata": {
    "papermill": {
     "duration": 0.019732,
     "end_time": "2020-08-12T22:50:26.963133",
     "exception": false,
     "start_time": "2020-08-12T22:50:26.943401",
     "status": "completed"
    },
    "tags": []
   },
   "source": [
    "# Running the model after removing the non significant variables"
   ]
  },
  {
   "cell_type": "code",
   "execution_count": 31,
   "metadata": {
    "execution": {
     "iopub.execute_input": "2020-08-12T22:50:27.016284Z",
     "iopub.status.busy": "2020-08-12T22:50:27.014838Z",
     "iopub.status.idle": "2020-08-12T22:50:27.056632Z",
     "shell.execute_reply": "2020-08-12T22:50:27.057247Z"
    },
    "papermill": {
     "duration": 0.074119,
     "end_time": "2020-08-12T22:50:27.057415",
     "exception": false,
     "start_time": "2020-08-12T22:50:26.983296",
     "status": "completed"
    },
    "tags": []
   },
   "outputs": [
    {
     "name": "stdout",
     "output_type": "stream",
     "text": [
      "Optimization terminated successfully.\n",
      "         Current function value: 0.243175\n",
      "         Iterations 8\n",
      "                           Logit Regression Results                           \n",
      "==============================================================================\n",
      "Dep. Variable:                Quality   No. Observations:                 1194\n",
      "Model:                          Logit   Df Residuals:                     1189\n",
      "Method:                           MLE   Df Model:                            4\n",
      "Date:                Wed, 12 Aug 2020   Pseudo R-squ.:                  0.3482\n",
      "Time:                        22:50:27   Log-Likelihood:                -290.35\n",
      "converged:                       True   LL-Null:                       -445.47\n",
      "Covariance Type:            nonrobust   LLR p-value:                 6.726e-66\n",
      "========================================================================================\n",
      "                           coef    std err          z      P>|z|      [0.025      0.975]\n",
      "----------------------------------------------------------------------------------------\n",
      "const                  -17.1603      1.621    -10.589      0.000     -20.337     -13.984\n",
      "volatile acidity        -2.9598      0.741     -3.994      0.000      -4.412      -1.507\n",
      "total sulfur dioxide    -0.0217      0.006     -3.809      0.000      -0.033      -0.011\n",
      "sulphates                6.7131      0.940      7.140      0.000       4.870       8.556\n",
      "alcohol                  1.1783      0.118     10.009      0.000       0.948       1.409\n",
      "========================================================================================\n"
     ]
    }
   ],
   "source": [
    "logit1 = sm.Logit(y.astype(float),sm.add_constant(x.astype(float))).fit()\n",
    "print(logit1.summary())"
   ]
  },
  {
   "cell_type": "markdown",
   "execution_count": null,
   "metadata": {
    "papermill": {
     "duration": 0.020611,
     "end_time": "2020-08-12T22:50:27.098664",
     "exception": false,
     "start_time": "2020-08-12T22:50:27.078053",
     "status": "completed"
    },
    "tags": []
   },
   "source": [
    "# Predicting the train and test sets with the new model"
   ]
  },
  {
   "cell_type": "code",
   "execution_count": 32,
   "metadata": {
    "execution": {
     "iopub.execute_input": "2020-08-12T22:50:27.152451Z",
     "iopub.status.busy": "2020-08-12T22:50:27.151256Z",
     "iopub.status.idle": "2020-08-12T22:50:27.157173Z",
     "shell.execute_reply": "2020-08-12T22:50:27.156356Z"
    },
    "papermill": {
     "duration": 0.037611,
     "end_time": "2020-08-12T22:50:27.157320",
     "exception": false,
     "start_time": "2020-08-12T22:50:27.119709",
     "status": "completed"
    },
    "tags": []
   },
   "outputs": [
    {
     "data": {
      "text/plain": [
       "(359, 835, 835, 359)"
      ]
     },
     "execution_count": 32,
     "metadata": {},
     "output_type": "execute_result"
    }
   ],
   "source": [
    "x_train,x_test,y_train,y_test = train_test_split(x,y,test_size=0.3,random_state=42)\n",
    "len(x_test),len(x_train),len(y_train),len(y_test)"
   ]
  },
  {
   "cell_type": "code",
   "execution_count": 33,
   "metadata": {
    "execution": {
     "iopub.execute_input": "2020-08-12T22:50:27.212301Z",
     "iopub.status.busy": "2020-08-12T22:50:27.211477Z",
     "iopub.status.idle": "2020-08-12T22:50:27.245065Z",
     "shell.execute_reply": "2020-08-12T22:50:27.244294Z"
    },
    "papermill": {
     "duration": 0.066446,
     "end_time": "2020-08-12T22:50:27.245211",
     "exception": false,
     "start_time": "2020-08-12T22:50:27.178765",
     "status": "completed"
    },
    "tags": []
   },
   "outputs": [],
   "source": [
    "logit = LogisticRegression(solver='lbfgs')\n",
    "logit.fit(x_train,y_train)\n",
    "predict = logit.predict(x_test)\n",
    "predictt = logit.predict(x_train)"
   ]
  },
  {
   "cell_type": "code",
   "execution_count": 34,
   "metadata": {
    "execution": {
     "iopub.execute_input": "2020-08-12T22:50:27.296313Z",
     "iopub.status.busy": "2020-08-12T22:50:27.295423Z",
     "iopub.status.idle": "2020-08-12T22:50:27.299245Z",
     "shell.execute_reply": "2020-08-12T22:50:27.298450Z"
    },
    "papermill": {
     "duration": 0.03331,
     "end_time": "2020-08-12T22:50:27.299378",
     "exception": false,
     "start_time": "2020-08-12T22:50:27.266068",
     "status": "completed"
    },
    "tags": []
   },
   "outputs": [],
   "source": [
    "prob_test = logit.predict_proba(x_test)[:,1]\n",
    "#print(prob_test.reshape(1,-1))"
   ]
  },
  {
   "cell_type": "code",
   "execution_count": 35,
   "metadata": {
    "execution": {
     "iopub.execute_input": "2020-08-12T22:50:27.350996Z",
     "iopub.status.busy": "2020-08-12T22:50:27.349984Z",
     "iopub.status.idle": "2020-08-12T22:50:27.353378Z",
     "shell.execute_reply": "2020-08-12T22:50:27.352602Z"
    },
    "papermill": {
     "duration": 0.033172,
     "end_time": "2020-08-12T22:50:27.353548",
     "exception": false,
     "start_time": "2020-08-12T22:50:27.320376",
     "status": "completed"
    },
    "tags": []
   },
   "outputs": [],
   "source": [
    "prob_train = logit.predict_proba(x_train)[:,1]\n",
    "#print(prob_train.reshape(1,-1))"
   ]
  },
  {
   "cell_type": "code",
   "execution_count": 36,
   "metadata": {
    "execution": {
     "iopub.execute_input": "2020-08-12T22:50:27.407123Z",
     "iopub.status.busy": "2020-08-12T22:50:27.406168Z",
     "iopub.status.idle": "2020-08-12T22:50:27.410409Z",
     "shell.execute_reply": "2020-08-12T22:50:27.409721Z"
    },
    "papermill": {
     "duration": 0.033758,
     "end_time": "2020-08-12T22:50:27.410595",
     "exception": false,
     "start_time": "2020-08-12T22:50:27.376837",
     "status": "completed"
    },
    "tags": []
   },
   "outputs": [
    {
     "name": "stdout",
     "output_type": "stream",
     "text": [
      "accuracy: 0.8802228412256268\n"
     ]
    }
   ],
   "source": [
    "print(\"accuracy:\",accuracy_score(y_test,predict))"
   ]
  },
  {
   "cell_type": "code",
   "execution_count": 37,
   "metadata": {
    "execution": {
     "iopub.execute_input": "2020-08-12T22:50:27.466164Z",
     "iopub.status.busy": "2020-08-12T22:50:27.465316Z",
     "iopub.status.idle": "2020-08-12T22:50:27.470096Z",
     "shell.execute_reply": "2020-08-12T22:50:27.469120Z"
    },
    "papermill": {
     "duration": 0.034828,
     "end_time": "2020-08-12T22:50:27.470274",
     "exception": false,
     "start_time": "2020-08-12T22:50:27.435446",
     "status": "completed"
    },
    "tags": []
   },
   "outputs": [
    {
     "name": "stdout",
     "output_type": "stream",
     "text": [
      "confusion matrix \n",
      " [[305  14]\n",
      " [ 29  11]]\n"
     ]
    }
   ],
   "source": [
    "print(\"confusion matrix \\n\",confusion_matrix(y_test,predict))"
   ]
  },
  {
   "cell_type": "code",
   "execution_count": 38,
   "metadata": {
    "execution": {
     "iopub.execute_input": "2020-08-12T22:50:27.541958Z",
     "iopub.status.busy": "2020-08-12T22:50:27.535676Z",
     "iopub.status.idle": "2020-08-12T22:50:27.547982Z",
     "shell.execute_reply": "2020-08-12T22:50:27.547145Z"
    },
    "papermill": {
     "duration": 0.056153,
     "end_time": "2020-08-12T22:50:27.548122",
     "exception": false,
     "start_time": "2020-08-12T22:50:27.491969",
     "status": "completed"
    },
    "tags": []
   },
   "outputs": [
    {
     "name": "stdout",
     "output_type": "stream",
     "text": [
      "              precision    recall  f1-score   support\n",
      "\n",
      "           0       0.91      0.96      0.93       319\n",
      "           1       0.44      0.28      0.34        40\n",
      "\n",
      "    accuracy                           0.88       359\n",
      "   macro avg       0.68      0.62      0.64       359\n",
      "weighted avg       0.86      0.88      0.87       359\n",
      "\n"
     ]
    }
   ],
   "source": [
    "print(classification_report(y_test,predict))"
   ]
  },
  {
   "cell_type": "code",
   "execution_count": 39,
   "metadata": {
    "execution": {
     "iopub.execute_input": "2020-08-12T22:50:27.600135Z",
     "iopub.status.busy": "2020-08-12T22:50:27.599327Z",
     "iopub.status.idle": "2020-08-12T22:50:27.608772Z",
     "shell.execute_reply": "2020-08-12T22:50:27.607942Z"
    },
    "papermill": {
     "duration": 0.039668,
     "end_time": "2020-08-12T22:50:27.608911",
     "exception": false,
     "start_time": "2020-08-12T22:50:27.569243",
     "status": "completed"
    },
    "tags": []
   },
   "outputs": [],
   "source": [
    "roc_auc_train = roc_auc_score(y_train,predictt)\n",
    "fpr, tpr, threshold = roc_curve(pd.to_numeric(y_train),prob_train)\n",
    "roc_auc = auc(fpr,tpr)"
   ]
  },
  {
   "cell_type": "code",
   "execution_count": 40,
   "metadata": {
    "execution": {
     "iopub.execute_input": "2020-08-12T22:50:27.672221Z",
     "iopub.status.busy": "2020-08-12T22:50:27.668509Z",
     "iopub.status.idle": "2020-08-12T22:50:27.846629Z",
     "shell.execute_reply": "2020-08-12T22:50:27.845821Z"
    },
    "papermill": {
     "duration": 0.216497,
     "end_time": "2020-08-12T22:50:27.846763",
     "exception": false,
     "start_time": "2020-08-12T22:50:27.630266",
     "status": "completed"
    },
    "tags": []
   },
   "outputs": [
    {
     "data": {
      "image/png": "[encoded data removed]",
      "text/plain": [
       "<Figure size 432x288 with 1 Axes>"
      ]
     },
     "metadata": {
      "needs_background": "light"
     },
     "output_type": "display_data"
    }
   ],
   "source": [
    "plt.figure()\n",
    "plt.plot(fpr,tpr,color ='blue',label='ROC curve(area= %0.2f)'%(roc_auc))\n",
    "plt.plot([0,1],[0,1],'r--')\n",
    "plt.xlim([0.0,1.0])\n",
    "plt.ylim([0.0,1.05])\n",
    "plt.xlabel('False Positive Rate')\n",
    "plt.ylabel('True Positive Rate')\n",
    "plt.title(\"Receiver Operating Characteristic : Train Data\")\n",
    "plt.legend(loc='lower right')\n",
    "plt.show()"
   ]
  },
  {
   "cell_type": "code",
   "execution_count": 41,
   "metadata": {
    "execution": {
     "iopub.execute_input": "2020-08-12T22:50:27.900925Z",
     "iopub.status.busy": "2020-08-12T22:50:27.899808Z",
     "iopub.status.idle": "2020-08-12T22:50:27.907416Z",
     "shell.execute_reply": "2020-08-12T22:50:27.906587Z"
    },
    "papermill": {
     "duration": 0.038554,
     "end_time": "2020-08-12T22:50:27.907567",
     "exception": false,
     "start_time": "2020-08-12T22:50:27.869013",
     "status": "completed"
    },
    "tags": []
   },
   "outputs": [],
   "source": [
    "roc_auc_test = roc_auc_score(y_test,predict)\n",
    "fpr1, tpr1, threshold1 = roc_curve(pd.to_numeric(y_test),prob_test)\n",
    "roc_auc1 = auc(fpr1,tpr1) "
   ]
  },
  {
   "cell_type": "code",
   "execution_count": 42,
   "metadata": {
    "execution": {
     "iopub.execute_input": "2020-08-12T22:50:27.968493Z",
     "iopub.status.busy": "2020-08-12T22:50:27.967659Z",
     "iopub.status.idle": "2020-08-12T22:50:28.156552Z",
     "shell.execute_reply": "2020-08-12T22:50:28.155864Z"
    },
    "papermill": {
     "duration": 0.227367,
     "end_time": "2020-08-12T22:50:28.156689",
     "exception": false,
     "start_time": "2020-08-12T22:50:27.929322",
     "status": "completed"
    },
    "tags": []
   },
   "outputs": [
    {
     "data": {
      "image/png": "[encoded data removed]",
      "text/plain": [
       "<Figure size 432x288 with 1 Axes>"
      ]
     },
     "metadata": {
      "needs_background": "light"
     },
     "output_type": "display_data"
    }
   ],
   "source": [
    "plt.figure()\n",
    "plt.plot(fpr1,tpr1,color ='blue',label='ROC curve(area= %0.2f)'%(roc_auc1))\n",
    "plt.plot([0,1],[0,1],'r--')\n",
    "plt.xlim([0.0,1.0])\n",
    "plt.ylim([0.0,1.05])\n",
    "plt.xlabel('False Positive Rate')\n",
    "plt.ylabel('True Positive Rate')\n",
    "plt.title(\"Receiver Operating Characteristic : Test data\")\n",
    "plt.legend(loc='lower right')\n",
    "plt.show()"
   ]
  },
  {
   "cell_type": "markdown",
   "execution_count": null,
   "metadata": {
    "papermill": {
     "duration": 0.021989,
     "end_time": "2020-08-12T22:50:28.200838",
     "exception": false,
     "start_time": "2020-08-12T22:50:28.178849",
     "status": "completed"
    },
    "tags": []
   },
   "source": [
    "# Trying out different cut-off values"
   ]
  },
  {
   "cell_type": "code",
   "execution_count": 43,
   "metadata": {
    "execution": {
     "iopub.execute_input": "2020-08-12T22:50:28.252818Z",
     "iopub.status.busy": "2020-08-12T22:50:28.251780Z",
     "iopub.status.idle": "2020-08-12T22:50:28.260412Z",
     "shell.execute_reply": "2020-08-12T22:50:28.259702Z"
    },
    "papermill": {
     "duration": 0.03665,
     "end_time": "2020-08-12T22:50:28.260572",
     "exception": false,
     "start_time": "2020-08-12T22:50:28.223922",
     "status": "completed"
    },
    "tags": []
   },
   "outputs": [
    {
     "name": "stderr",
     "output_type": "stream",
     "text": [
      "/opt/conda/lib/python3.7/site-packages/sklearn/utils/validation.py:70: FutureWarning: Pass threshold=0.25 as keyword args. From version 0.25 passing these as positional arguments will result in an error\n",
      "  FutureWarning)\n"
     ]
    }
   ],
   "source": [
    "y_predict = binarize(prob_test.reshape(1,-1),0.25)[0]\n",
    "y_predict = y_predict.astype(int)"
   ]
  },
  {
   "cell_type": "code",
   "execution_count": 44,
   "metadata": {
    "execution": {
     "iopub.execute_input": "2020-08-12T22:50:28.312274Z",
     "iopub.status.busy": "2020-08-12T22:50:28.311420Z",
     "iopub.status.idle": "2020-08-12T22:50:28.320316Z",
     "shell.execute_reply": "2020-08-12T22:50:28.319493Z"
    },
    "papermill": {
     "duration": 0.037479,
     "end_time": "2020-08-12T22:50:28.320450",
     "exception": false,
     "start_time": "2020-08-12T22:50:28.282971",
     "status": "completed"
    },
    "tags": []
   },
   "outputs": [
    {
     "data": {
      "text/plain": [
       "array([[279,  40],\n",
       "       [ 13,  27]])"
      ]
     },
     "execution_count": 44,
     "metadata": {},
     "output_type": "execute_result"
    }
   ],
   "source": [
    "confusion_matrix(pd.to_numeric(y_test),y_predict)"
   ]
  },
  {
   "cell_type": "code",
   "execution_count": 45,
   "metadata": {
    "execution": {
     "iopub.execute_input": "2020-08-12T22:50:28.374381Z",
     "iopub.status.busy": "2020-08-12T22:50:28.373103Z",
     "iopub.status.idle": "2020-08-12T22:50:28.385547Z",
     "shell.execute_reply": "2020-08-12T22:50:28.384828Z"
    },
    "papermill": {
     "duration": 0.042784,
     "end_time": "2020-08-12T22:50:28.385684",
     "exception": false,
     "start_time": "2020-08-12T22:50:28.342900",
     "status": "completed"
    },
    "tags": []
   },
   "outputs": [
    {
     "name": "stdout",
     "output_type": "stream",
     "text": [
      "              precision    recall  f1-score   support\n",
      "\n",
      "           0       0.96      0.87      0.91       319\n",
      "           1       0.40      0.68      0.50        40\n",
      "\n",
      "    accuracy                           0.85       359\n",
      "   macro avg       0.68      0.77      0.71       359\n",
      "weighted avg       0.89      0.85      0.87       359\n",
      "\n"
     ]
    }
   ],
   "source": [
    "print(classification_report(pd.to_numeric(y_test),y_predict))"
   ]
  },
  {
   "cell_type": "code",
   "execution_count": 46,
   "metadata": {
    "execution": {
     "iopub.execute_input": "2020-08-12T22:50:28.440193Z",
     "iopub.status.busy": "2020-08-12T22:50:28.439268Z",
     "iopub.status.idle": "2020-08-12T22:50:28.443864Z",
     "shell.execute_reply": "2020-08-12T22:50:28.443042Z"
    },
    "papermill": {
     "duration": 0.034428,
     "end_time": "2020-08-12T22:50:28.444005",
     "exception": false,
     "start_time": "2020-08-12T22:50:28.409577",
     "status": "completed"
    },
    "tags": []
   },
   "outputs": [
    {
     "name": "stderr",
     "output_type": "stream",
     "text": [
      "/opt/conda/lib/python3.7/site-packages/sklearn/utils/validation.py:70: FutureWarning: Pass threshold=0.5 as keyword args. From version 0.25 passing these as positional arguments will result in an error\n",
      "  FutureWarning)\n"
     ]
    }
   ],
   "source": [
    "y_predict = binarize(prob_test.reshape(1,-1),0.50)[0]\n",
    "y_predict = y_predict.astype(int)"
   ]
  },
  {
   "cell_type": "code",
   "execution_count": 47,
   "metadata": {
    "execution": {
     "iopub.execute_input": "2020-08-12T22:50:28.499279Z",
     "iopub.status.busy": "2020-08-12T22:50:28.496592Z",
     "iopub.status.idle": "2020-08-12T22:50:28.503976Z",
     "shell.execute_reply": "2020-08-12T22:50:28.503231Z"
    },
    "papermill": {
     "duration": 0.036986,
     "end_time": "2020-08-12T22:50:28.504104",
     "exception": false,
     "start_time": "2020-08-12T22:50:28.467118",
     "status": "completed"
    },
    "tags": []
   },
   "outputs": [
    {
     "data": {
      "text/plain": [
       "array([[305,  14],\n",
       "       [ 29,  11]])"
      ]
     },
     "execution_count": 47,
     "metadata": {},
     "output_type": "execute_result"
    }
   ],
   "source": [
    "confusion_matrix(pd.to_numeric(y_test),y_predict)"
   ]
  },
  {
   "cell_type": "code",
   "execution_count": 48,
   "metadata": {
    "execution": {
     "iopub.execute_input": "2020-08-12T22:50:28.558071Z",
     "iopub.status.busy": "2020-08-12T22:50:28.556910Z",
     "iopub.status.idle": "2020-08-12T22:50:28.568391Z",
     "shell.execute_reply": "2020-08-12T22:50:28.567462Z"
    },
    "papermill": {
     "duration": 0.041463,
     "end_time": "2020-08-12T22:50:28.568593",
     "exception": false,
     "start_time": "2020-08-12T22:50:28.527130",
     "status": "completed"
    },
    "tags": []
   },
   "outputs": [
    {
     "name": "stdout",
     "output_type": "stream",
     "text": [
      "              precision    recall  f1-score   support\n",
      "\n",
      "           0       0.91      0.96      0.93       319\n",
      "           1       0.44      0.28      0.34        40\n",
      "\n",
      "    accuracy                           0.88       359\n",
      "   macro avg       0.68      0.62      0.64       359\n",
      "weighted avg       0.86      0.88      0.87       359\n",
      "\n"
     ]
    }
   ],
   "source": [
    "print(classification_report(pd.to_numeric(y_test),y_predict))"
   ]
  },
  {
   "cell_type": "code",
   "execution_count": 49,
   "metadata": {
    "execution": {
     "iopub.execute_input": "2020-08-12T22:50:28.623188Z",
     "iopub.status.busy": "2020-08-12T22:50:28.622269Z",
     "iopub.status.idle": "2020-08-12T22:50:28.625717Z",
     "shell.execute_reply": "2020-08-12T22:50:28.626293Z"
    },
    "papermill": {
     "duration": 0.034237,
     "end_time": "2020-08-12T22:50:28.626458",
     "exception": false,
     "start_time": "2020-08-12T22:50:28.592221",
     "status": "completed"
    },
    "tags": []
   },
   "outputs": [
    {
     "name": "stderr",
     "output_type": "stream",
     "text": [
      "/opt/conda/lib/python3.7/site-packages/sklearn/utils/validation.py:70: FutureWarning: Pass threshold=0.75 as keyword args. From version 0.25 passing these as positional arguments will result in an error\n",
      "  FutureWarning)\n"
     ]
    }
   ],
   "source": [
    "y_predict = binarize(prob_test.reshape(1,-1),0.75)[0]\n",
    "y_predict = y_predict.astype(int)"
   ]
  },
  {
   "cell_type": "code",
   "execution_count": 50,
   "metadata": {
    "execution": {
     "iopub.execute_input": "2020-08-12T22:50:28.680172Z",
     "iopub.status.busy": "2020-08-12T22:50:28.679361Z",
     "iopub.status.idle": "2020-08-12T22:50:28.686378Z",
     "shell.execute_reply": "2020-08-12T22:50:28.685643Z"
    },
    "papermill": {
     "duration": 0.036681,
     "end_time": "2020-08-12T22:50:28.686506",
     "exception": false,
     "start_time": "2020-08-12T22:50:28.649825",
     "status": "completed"
    },
    "tags": []
   },
   "outputs": [
    {
     "data": {
      "text/plain": [
       "array([[319,   0],\n",
       "       [ 39,   1]])"
      ]
     },
     "execution_count": 50,
     "metadata": {},
     "output_type": "execute_result"
    }
   ],
   "source": [
    "confusion_matrix(pd.to_numeric(y_test),y_predict)"
   ]
  },
  {
   "cell_type": "code",
   "execution_count": 51,
   "metadata": {
    "execution": {
     "iopub.execute_input": "2020-08-12T22:50:28.742749Z",
     "iopub.status.busy": "2020-08-12T22:50:28.741743Z",
     "iopub.status.idle": "2020-08-12T22:50:28.751740Z",
     "shell.execute_reply": "2020-08-12T22:50:28.751028Z"
    },
    "papermill": {
     "duration": 0.041474,
     "end_time": "2020-08-12T22:50:28.751884",
     "exception": false,
     "start_time": "2020-08-12T22:50:28.710410",
     "status": "completed"
    },
    "tags": []
   },
   "outputs": [
    {
     "name": "stdout",
     "output_type": "stream",
     "text": [
      "              precision    recall  f1-score   support\n",
      "\n",
      "           0       0.89      1.00      0.94       319\n",
      "           1       1.00      0.03      0.05        40\n",
      "\n",
      "    accuracy                           0.89       359\n",
      "   macro avg       0.95      0.51      0.50       359\n",
      "weighted avg       0.90      0.89      0.84       359\n",
      "\n"
     ]
    }
   ],
   "source": [
    "print(classification_report(pd.to_numeric(y_test),y_predict))"
   ]
  },
  {
   "cell_type": "markdown",
   "execution_count": null,
   "metadata": {
    "papermill": {
     "duration": 0.023284,
     "end_time": "2020-08-12T22:50:28.798917",
     "exception": false,
     "start_time": "2020-08-12T22:50:28.775633",
     "status": "completed"
    },
    "tags": []
   },
   "source": [
    "# Finding the best cutoff value"
   ]
  },
  {
   "cell_type": "code",
   "execution_count": 52,
   "metadata": {
    "execution": {
     "iopub.execute_input": "2020-08-12T22:50:28.868640Z",
     "iopub.status.busy": "2020-08-12T22:50:28.867638Z",
     "iopub.status.idle": "2020-08-12T22:50:28.873096Z",
     "shell.execute_reply": "2020-08-12T22:50:28.872335Z"
    },
    "papermill": {
     "duration": 0.050662,
     "end_time": "2020-08-12T22:50:28.873234",
     "exception": false,
     "start_time": "2020-08-12T22:50:28.822572",
     "status": "completed"
    },
    "tags": []
   },
   "outputs": [
    {
     "data": {
      "text/html": [
       "<div>\n",
       "<style scoped>\n",
       "    .dataframe tbody tr th:only-of-type {\n",
       "        vertical-align: middle;\n",
       "    }\n",
       "\n",
       "    .dataframe tbody tr th {\n",
       "        vertical-align: top;\n",
       "    }\n",
       "\n",
       "    .dataframe thead th {\n",
       "        text-align: right;\n",
       "    }\n",
       "</style>\n",
       "<table border=\"1\" class=\"dataframe\">\n",
       "  <thead>\n",
       "    <tr style=\"text-align: right;\">\n",
       "      <th></th>\n",
       "      <th>fpr</th>\n",
       "      <th>tpr</th>\n",
       "      <th>1-fpr</th>\n",
       "      <th>tf</th>\n",
       "      <th>thresholds</th>\n",
       "    </tr>\n",
       "  </thead>\n",
       "  <tbody>\n",
       "    <tr>\n",
       "      <th>42</th>\n",
       "      <td>0.191223</td>\n",
       "      <td>0.8</td>\n",
       "      <td>0.808777</td>\n",
       "      <td>-0.008777</td>\n",
       "      <td>0.168765</td>\n",
       "    </tr>\n",
       "  </tbody>\n",
       "</table>\n",
       "</div>"
      ],
      "text/plain": [
       "         fpr  tpr     1-fpr        tf  thresholds\n",
       "42  0.191223  0.8  0.808777 -0.008777    0.168765"
      ]
     },
     "execution_count": 52,
     "metadata": {},
     "output_type": "execute_result"
    }
   ],
   "source": [
    "i = np.arange(len(tpr1))\n",
    "roc = pd.DataFrame({'fpr':pd.Series(fpr1,index =i),'tpr':pd.Series(tpr1,index=i),\n",
    "                   '1-fpr':pd.Series(1-fpr1,index=i),'tf':pd.Series(tpr1 - (1-fpr1),index=i),\n",
    "                   'thresholds':pd.Series(threshold1,index=i)})\n",
    "roc.iloc[(roc.tf-0).abs().argsort()[:1]]"
   ]
  },
  {
   "cell_type": "code",
   "execution_count": 53,
   "metadata": {
    "execution": {
     "iopub.execute_input": "2020-08-12T22:50:28.940261Z",
     "iopub.status.busy": "2020-08-12T22:50:28.939010Z",
     "iopub.status.idle": "2020-08-12T22:50:29.112894Z",
     "shell.execute_reply": "2020-08-12T22:50:29.112077Z"
    },
    "papermill": {
     "duration": 0.215979,
     "end_time": "2020-08-12T22:50:29.113031",
     "exception": false,
     "start_time": "2020-08-12T22:50:28.897052",
     "status": "completed"
    },
    "tags": []
   },
   "outputs": [
    {
     "data": {
      "image/png": "[encoded data removed]",
      "text/plain": [
       "<Figure size 432x288 with 1 Axes>"
      ]
     },
     "metadata": {
      "needs_background": "light"
     },
     "output_type": "display_data"
    }
   ],
   "source": [
    "plt.figure\n",
    "plt.plot(roc['tpr'],color='red')\n",
    "plt.plot(roc['1-fpr'],color='blue')\n",
    "plt.xlabel('1-Flase Positive Rate')\n",
    "plt.ylabel('True Positive Rate')\n",
    "plt.title('Receiver Operating Characteristic')\n",
    "plt.show()"
   ]
  },
  {
   "cell_type": "code",
   "execution_count": 54,
   "metadata": {
    "execution": {
     "iopub.execute_input": "2020-08-12T22:50:29.169384Z",
     "iopub.status.busy": "2020-08-12T22:50:29.168395Z",
     "iopub.status.idle": "2020-08-12T22:50:29.172176Z",
     "shell.execute_reply": "2020-08-12T22:50:29.172973Z"
    },
    "papermill": {
     "duration": 0.035728,
     "end_time": "2020-08-12T22:50:29.173191",
     "exception": false,
     "start_time": "2020-08-12T22:50:29.137463",
     "status": "completed"
    },
    "tags": []
   },
   "outputs": [
    {
     "name": "stderr",
     "output_type": "stream",
     "text": [
      "/opt/conda/lib/python3.7/site-packages/sklearn/utils/validation.py:70: FutureWarning: Pass threshold=0.16 as keyword args. From version 0.25 passing these as positional arguments will result in an error\n",
      "  FutureWarning)\n"
     ]
    }
   ],
   "source": [
    "y_predict = binarize(prob_test.reshape(1,-1),0.16)[0]\n",
    "y_predict = y_predict.astype(int)"
   ]
  },
  {
   "cell_type": "code",
   "execution_count": 55,
   "metadata": {
    "execution": {
     "iopub.execute_input": "2020-08-12T22:50:29.232626Z",
     "iopub.status.busy": "2020-08-12T22:50:29.231214Z",
     "iopub.status.idle": "2020-08-12T22:50:29.235272Z",
     "shell.execute_reply": "2020-08-12T22:50:29.235898Z"
    },
    "papermill": {
     "duration": 0.037344,
     "end_time": "2020-08-12T22:50:29.236074",
     "exception": false,
     "start_time": "2020-08-12T22:50:29.198730",
     "status": "completed"
    },
    "tags": []
   },
   "outputs": [
    {
     "name": "stdout",
     "output_type": "stream",
     "text": [
      "accuracy: 0.8022284122562674\n"
     ]
    }
   ],
   "source": [
    "print(\"accuracy:\",accuracy_score(pd.to_numeric(y_test),pd.to_numeric(y_predict)))"
   ]
  },
  {
   "cell_type": "code",
   "execution_count": 56,
   "metadata": {
    "execution": {
     "iopub.execute_input": "2020-08-12T22:50:29.293099Z",
     "iopub.status.busy": "2020-08-12T22:50:29.292290Z",
     "iopub.status.idle": "2020-08-12T22:50:29.299391Z",
     "shell.execute_reply": "2020-08-12T22:50:29.298550Z"
    },
    "papermill": {
     "duration": 0.038417,
     "end_time": "2020-08-12T22:50:29.299550",
     "exception": false,
     "start_time": "2020-08-12T22:50:29.261133",
     "status": "completed"
    },
    "tags": []
   },
   "outputs": [
    {
     "name": "stdout",
     "output_type": "stream",
     "text": [
      "confusion matrix:\n",
      " [[255  64]\n",
      " [  7  33]]\n"
     ]
    }
   ],
   "source": [
    "print(\"confusion matrix:\\n\",confusion_matrix(pd.to_numeric(y_test),y_predict))"
   ]
  },
  {
   "cell_type": "code",
   "execution_count": 57,
   "metadata": {
    "execution": {
     "iopub.execute_input": "2020-08-12T22:50:29.357331Z",
     "iopub.status.busy": "2020-08-12T22:50:29.356157Z",
     "iopub.status.idle": "2020-08-12T22:50:29.367657Z",
     "shell.execute_reply": "2020-08-12T22:50:29.366655Z"
    },
    "papermill": {
     "duration": 0.043121,
     "end_time": "2020-08-12T22:50:29.367859",
     "exception": false,
     "start_time": "2020-08-12T22:50:29.324738",
     "status": "completed"
    },
    "tags": []
   },
   "outputs": [
    {
     "name": "stdout",
     "output_type": "stream",
     "text": [
      "              precision    recall  f1-score   support\n",
      "\n",
      "           0       0.97      0.80      0.88       319\n",
      "           1       0.34      0.82      0.48        40\n",
      "\n",
      "    accuracy                           0.80       359\n",
      "   macro avg       0.66      0.81      0.68       359\n",
      "weighted avg       0.90      0.80      0.83       359\n",
      "\n"
     ]
    }
   ],
   "source": [
    "print(classification_report(pd.to_numeric(y_test),y_predict))"
   ]
  }
 ],
 "metadata": {
  "kernelspec": {
   "display_name": "Python 3",
   "language": "python",
   "name": "python3"
  },
  "language_info": {
   "codemirror_mode": {
    "name": "ipython",
    "version": 3
   },
   "file_extension": ".py",
   "mimetype": "text/x-python",
   "name": "python",
   "nbconvert_exporter": "python",
   "pygments_lexer": "ipython3",
   "version": "3.7.6"
  },
  "papermill": {
   "duration": 12.252014,
   "end_time": "2020-08-12T22:50:29.502912",
   "environment_variables": {},
   "exception": null,
   "input_path": "__notebook__.ipynb",
   "output_path": "__notebook__.ipynb",
   "parameters": {},
   "start_time": "2020-08-12T22:50:17.250898",
   "version": "2.1.0"
  }
 },
 "nbformat": 4,
 "nbformat_minor": 4
}
